{
  "nbformat": 4,
  "nbformat_minor": 0,
  "metadata": {
    "colab": {
      "provenance": []
    },
    "kernelspec": {
      "name": "python3",
      "display_name": "Python 3"
    },
    "language_info": {
      "name": "python"
    }
  },
  "cells": [
    {
      "cell_type": "markdown",
      "source": [
        "Q1: Understanding Arrow Functions & Lexical this\n",
        "\n",
        "Consider the following code and predict the output. Explain why the behavior occurs.\n",
        "\n"
      ],
      "metadata": {
        "id": "w-76AMijaYjZ"
      }
    },
    {
      "cell_type": "code",
      "source": [
        "const person ={\n",
        "    name:\"Alice\",\n",
        "    greet:function() {\n",
        "        setTimeout(()=>{console.log(`Hello,my name is ${this.name}`);\n",
        "\n",
        "        },1000);\n",
        "    }\n",
        "};\n",
        "\n",
        "person.greet();\n",
        "output:\n",
        "Hello,my name is Alice"
      ],
      "metadata": {
        "id": "q0e83XjRaimN"
      },
      "execution_count": null,
      "outputs": []
    },
    {
      "cell_type": "markdown",
      "source": [
        "Explanation:-\n",
        "\n",
        "\n",
        "*  Arrow functions don't have their own this.\n",
        "* They capture this from their enclosing scope.\n",
        "\n",
        "\n",
        "* Therefore,this.name correctly refers to \"Alice\".\n",
        "\n",
        "\n",
        "\n",
        "\n",
        "\n",
        "\n",
        "\n",
        "\n",
        "\n"
      ],
      "metadata": {
        "id": "osBW_gd5dcNQ"
      }
    },
    {
      "cell_type": "markdown",
      "source": [
        "Q2: Convert Traditional Functions to Arrow Functions\n",
        "\n",
        "Rewrite the following function using arrow functions without changing the behavior:"
      ],
      "metadata": {
        "id": "FfzyYwVDeSI8"
      }
    },
    {
      "cell_type": "code",
      "source": [
        "const multiply =(a,b)=>a*b;\n",
        "const obj = {\n",
        "    value:10,\n",
        "    add(num){\n",
        "        return this.value + num;\n",
        "    }\n",
        "};\n",
        "\n",
        "console.log(multiply(5,3));\n",
        "console.log(obj.add(5));"
      ],
      "metadata": {
        "id": "20GgfcG9iTQy"
      },
      "execution_count": null,
      "outputs": []
    },
    {
      "cell_type": "markdown",
      "source": [
        "Q3: Handling Errors in Async-Await (Try-Catch Required)\n",
        "\n",
        "Modify the following function to use async-await and proper error handling (try-catch)."
      ],
      "metadata": {
        "id": "O74V24YukaLm"
      }
    },
    {
      "cell_type": "code",
      "source": [
        "function fetchData() {\n",
        "    return new Promise((resolve, reject) => {\n",
        "        setTimeout(()=>{\n",
        "            let success = Math.random()>0.5;\n",
        "            success? resolve(\"Data received\"):reject(\"Error fetching data\");\n",
        "        },2000 );\n",
        "\n",
        "\n",
        "    })\n",
        "}\n",
        "async function handleFetch() {\n",
        "    try {\n",
        "        const data = await fetchData();\n",
        "        console.log(data);\n",
        "    }catch (error) {\n",
        "        console.error(error);\n",
        "\n",
        "    }\n",
        "\n",
        "\n",
        "}\n",
        "handleFetch();"
      ],
      "metadata": {
        "id": "W1GeF7x2sqWh"
      },
      "execution_count": null,
      "outputs": []
    },
    {
      "cell_type": "markdown",
      "source": [
        "Q4: Async Function with Multiple Await Calls\n",
        "\n",
        "Write an async function that7\n",
        "6= Fetches user data after 1 second=\n",
        "#= Fetches order details after 2 seconds=\n",
        "1= Fetches payment status after 3 seconds=\n",
        "-= Logs the final \"Order completed\" message=\n",
        " = Use await to ensure each step executes sequentially."
      ],
      "metadata": {
        "id": "1mcNH99_vVCE"
      }
    },
    {
      "cell_type": "code",
      "source": [
        "async function processOrder() {\n",
        "  console.log(\"Starting order processing...\");\n",
        "\n",
        "  // Simulate fetching user data after 1 second\n",
        "  await new Promise(resolve => setTimeout(() => {\n",
        "    console.log(\"User data fetched.\");\n",
        "    resolve();\n",
        "  }, 1000));\n",
        "\n",
        "  // Simulate fetching order details after 2 seconds\n",
        "  await new Promise(resolve => setTimeout(() => {\n",
        "    console.log(\"Order details fetched.\");\n",
        "    resolve();\n",
        "  }, 2000));\n",
        "\n",
        "  // Simulate fetching payment status after 3 seconds\n",
        "  await new Promise(resolve => setTimeout(() => {\n",
        "    console.log(\"Payment status fetched.\");\n",
        "    resolve();\n",
        "  }, 3000));\n",
        "\n",
        "  console.log(\"Order completed.\");\n",
        "}\n",
        "\n",
        "\n",
        "processOrder();\n"
      ],
      "metadata": {
        "id": "qYoNvJdRvo8H"
      },
      "execution_count": null,
      "outputs": []
    },
    {
      "cell_type": "markdown",
      "source": [
        "Q5: Handling Synchronous Errors with try-catch\n",
        "\n",
        "Write a function that7\n",
        "6= Accepts a string input=\n",
        "#= Converts it to a number and returns its square=\n",
        "1= Uses try-catch to handle cases where the input is not a valid number=\n",
        "-= If the error occurs, return \"Invalid Input\" instead of crashing."
      ],
      "metadata": {
        "id": "j6zOm21Yvv_z"
      }
    },
    {
      "cell_type": "code",
      "source": [
        "function calculateSquare(inputString) {\n",
        "  try {\n",
        "    const number = parseFloat(inputString);\n",
        "    if (isNaN(number)) {\n",
        "      throw new Error(\"Input is not a valid number.\");\n",
        "    }\n",
        "    return number * number;\n",
        "  } catch (error) {\n",
        "    return \"Invalid Input\";\n",
        "  }\n",
        "}"
      ],
      "metadata": {
        "id": "ZIUNppY0wHRe"
      },
      "execution_count": null,
      "outputs": []
    }
  ]
}